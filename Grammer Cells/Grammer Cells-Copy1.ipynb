{
 "cells": [
  {
   "cell_type": "code",
   "execution_count": 1,
   "metadata": {},
   "outputs": [
    {
     "name": "stdout",
     "output_type": "stream",
     "text": [
      "load log\n"
     ]
    }
   ],
   "source": [
    "import urllib.request\n",
    "import os.path\n",
    "import numpy as np\n",
    "import matplotlib.pyplot as plt\n",
    "import tensorflow as tf\n",
    "\n",
    "\n",
    "#  utilities \n",
    "\n",
    "def random_binomial(shape, p=0.0, dtype=None, seed=None):\n",
    "    \"\"\"Returns a tensor with random binomial distribution of values.\n",
    "    # Arguments\n",
    "        shape: A tuple of integers, the shape of tensor to create.\n",
    "        p: A float, `0. <= p <= 1`, probability of binomial distribution.\n",
    "        dtype: String, dtype of returned tensor.\n",
    "        seed: Integer, random seed.\n",
    "    # Returns\n",
    "        A tensor.\n",
    "    \"\"\"\n",
    "    if dtype is None:\n",
    "        dtype = 'float32'\n",
    "    if seed is None:\n",
    "        seed = np.random.randint(10e6)\n",
    "    return tf.where(tf.random_uniform(shape, dtype=dtype, seed=seed) <= p,\n",
    "                    tf.ones(shape, dtype=dtype),\n",
    "                    tf.zeros(shape, dtype=dtype))\n",
    "\n",
    "#reshape Data\n",
    "# sample n frame from videos\n",
    "def my_reshape(data_in ,number_of_frame = 2):\n",
    "    N, M, H, W = data_in.shape\n",
    "    n = N-number_of_frame+1\n",
    "    data_out = np.zeros((n * M, number_of_frame, 64, 64),'uint8')\n",
    "    for j in range(M):\n",
    "        for i in range(n):\n",
    "            data_out[j*n+i] = data_in[i:i+number_of_frame,j]\n",
    "    \n",
    "    return data_out\n",
    "\n",
    "#show filter \n",
    "def dispims(M, height, width, border=0, bordercolor=0.0, layout=None, **kwargs):\n",
    "    from pylab import cm, ceil\n",
    "    numimages = M.shape[1]\n",
    "    if layout is None:\n",
    "        n0 = int(np.ceil(np.sqrt(numimages)))\n",
    "        n1 = int(np.ceil(np.sqrt(numimages)))\n",
    "    else:\n",
    "        n0, n1 = layout\n",
    "    im = bordercolor * np.ones(((height+border)*n0+border,(width+border)*n1+border),dtype='<f8')\n",
    "    for i in range(n0):\n",
    "        for j in range(n1):\n",
    "            if i*n1+j < M.shape[1]:\n",
    "                im[i*(height+border)+border:(i+1)*(height+border)+border,\n",
    "                   j*(width+border)+border :(j+1)*(width+border)+border] = np.vstack((\n",
    "                            np.hstack((np.reshape(M[:,i*n1+j],(height, width)),\n",
    "                                   bordercolor*np.ones((height,border),dtype=float))),\n",
    "                            bordercolor*np.ones((border,width+border),dtype=float)\n",
    "                            ))\n",
    "    pylab.imshow(im, cmap=cm.gray, interpolation='nearest', **kwargs)\n",
    "    pylab.show()\n",
    "    \n",
    "# Manage Data\n",
    "class Dataset:\n",
    "    def __init__(self,data):\n",
    "        self._index_in_epoch = 0\n",
    "        self._epochs_completed = 0\n",
    "        self._data = data\n",
    "        self._num_examples = data.shape[0]\n",
    "        pass\n",
    "\n",
    "\n",
    "    @property\n",
    "    def data(self):\n",
    "        return self._data\n",
    "\n",
    "    def next_batch(self,batch_size,shuffle = True):\n",
    "        start = self._index_in_epoch\n",
    "        if start == 0 and self._epochs_completed == 0:\n",
    "            idx = np.arange(0, self._num_examples)  # get all possible indexes\n",
    "            np.random.shuffle(idx)  # shuffle indexe\n",
    "            self._data = self.data[idx]  # get list of `num` random samples\n",
    "\n",
    "        # go to the next batch\n",
    "        if start + batch_size > self._num_examples:\n",
    "            self._epochs_completed += 1\n",
    "            rest_num_examples = self._num_examples - start\n",
    "            data_rest_part = self.data[start:self._num_examples]\n",
    "            idx0 = np.arange(0, self._num_examples)  # get all possible indexes\n",
    "            np.random.shuffle(idx0)  # shuffle indexes\n",
    "            self._data = self.data[idx0]  # get list of `num` random samples\n",
    "\n",
    "            start = 0\n",
    "            self._index_in_epoch = batch_size - rest_num_examples #avoid the case where the #sample != integar times of batch_size\n",
    "            end =  self._index_in_epoch  \n",
    "            data_new_part =  self._data[start:end]  \n",
    "            return np.concatenate((data_rest_part, data_new_part), axis=0)\n",
    "        else:\n",
    "            self._index_in_epoch += batch_size\n",
    "            end = self._index_in_epoch\n",
    "            return self._data[start:end]\n",
    "        \n",
    "if (not os.path.isfile('log.npy')):\n",
    "    print (\"intialise log\")\n",
    "    log = np.array([])\n",
    "else :\n",
    "    print (\"load log\")\n",
    "    log =np.load(\"log.npy\")\n",
    "        \n",
    "numpy_rng = np.random.RandomState(1)\n",
    "SMALL = 0.000001\n",
    "print_every_epoch = 5\n",
    "batch_size = 64\n",
    "training_epochs =300\n",
    "\n",
    "# numfac1  = 1024\n",
    "# nummap1  = 512\n",
    "numfac1  = 512\n",
    "nummap1  = 256\n",
    "# numfac1  = 256\n",
    "# nummap1  = 512\n",
    "\n",
    "# numfac2  = 512\n",
    "# nummap2  = 256\n",
    "numfac2  = 128\n",
    "nummap2  = 64\n",
    "# numfac2  = 64\n",
    "# nummap2  = 128"
   ]
  },
  {
   "cell_type": "code",
   "execution_count": 2,
   "metadata": {},
   "outputs": [
    {
     "name": "stdout",
     "output_type": "stream",
     "text": [
      "Data Exist\n",
      "(20, 10000, 64, 64)\n",
      "(20, 1, 64, 64)\n",
      "(20, 1, 64, 64)\n",
      "(20, 10000, 64, 64)\n"
     ]
    },
    {
     "data": {
      "image/png": "[encoded data removed]",
      "text/plain": [
       "<matplotlib.figure.Figure at 0x11f5f02b0>"
      ]
     },
     "metadata": {},
     "output_type": "display_data"
    },
    {
     "name": "stdout",
     "output_type": "stream",
     "text": [
      "7000\n",
      "data_train  (20, 7000, 64, 64) data_test  (20, 3000, 64, 64)\n"
     ]
    }
   ],
   "source": [
    "\n",
    "# LOAD DATA\n",
    "file_name = 'mnist_test_seq.npy'\n",
    "if not os.path.isfile(file_name):\n",
    "    print(\"could not find moving mnist: download it..\")\n",
    "    url = 'http://www.cs.toronto.edu/~nitish/unsupervised_video/mnist_test_seq.npy'\n",
    "    urllib.request.urlretrieve(url, file_name)\n",
    "    print(\"download complete\")\n",
    "else :\n",
    "    print (\"Data Exist\")\n",
    "    \n",
    "data = np.load(file_name)\n",
    "print (data.shape)\n",
    "\n",
    "#normalize data\n",
    "mean_a = np.mean(data,1,keepdims =True)\n",
    "print (mean_a.shape)\n",
    "\n",
    "var_a = np.std(data,1,keepdims=True)+ (data.std() * 0.1)\n",
    "print (var_a.shape)\n",
    "\n",
    "data = (data -mean_a)/var_a\n",
    "print (data.shape)\n",
    "\n",
    "plt.imshow(data[0,0,:,:])\n",
    "plt.show()\n",
    "\n",
    "num_data = data.shape[1]\n",
    "\n",
    "idx =  np.arange(0, num_data)\n",
    "np.random.shuffle(idx)\n",
    "\n",
    "num_train = int( 0.7 * num_data)\n",
    "print (num_train)\n",
    "train_idx = idx[0:num_train]\n",
    "test_idx = idx [num_train:num_data]\n",
    "\n",
    "data_train = data[:,train_idx,:,:]\n",
    "data_test = data[:,test_idx,:,:]\n",
    "data=0\n",
    "\n",
    "print (\"data_train \" ,data_train.shape ,\"data_test \" ,data_test.shape   ) \n",
    "x_dim = 64*64\n",
    "\n",
    "\n"
   ]
  },
  {
   "cell_type": "code",
   "execution_count": 3,
   "metadata": {},
   "outputs": [
    {
     "name": "stdout",
     "output_type": "stream",
     "text": [
      "Load weights\n"
     ]
    }
   ],
   "source": [
    "\n",
    "# Model of  second order relational auto encoder\n",
    "input_x1 = tf.placeholder(tf.float32, [None, x_dim])\n",
    "input_x2 = tf.placeholder(tf.float32, [None, x_dim])\n",
    "input_x3 = tf.placeholder(tf.float32, [None, x_dim])\n",
    "input_x4 = tf.placeholder(tf.float32, [None, x_dim])\n",
    "\n",
    "\n",
    "# weights for first layer URR1\n",
    "if (not os.path.isfile('U1.npy')) and (not os.path.isfile('UR1.npy')) and (not os.path.isfile('URR1.npy')):\n",
    "    print (\"initialize weights randomly\")\n",
    "    U1 = tf.Variable(tf.random_normal(shape=(x_dim, numfac1)) * 0.01)\n",
    "    V1 = tf.Variable(tf.random_normal(shape=(x_dim, numfac1)) * 0.01)\n",
    "    W1 = tf.Variable(numpy_rng.uniform(low=-0.01, high=+0.01, size=( numfac1, nummap1)).astype('float32'))\n",
    "\n",
    "    bias_U1 = tf.Variable(np.zeros(numfac1, dtype='float32'))\n",
    "    bias_V1 = tf.Variable(np.zeros(numfac1, dtype='float32'))\n",
    "    bias_W1 = tf.Variable(np.zeros(nummap1, dtype='float32'))\n",
    "    \n",
    "    #weights for second layer \n",
    "    U2 = tf.Variable(tf.random_normal(shape=(nummap1, numfac2)) * 0.01)\n",
    "    V2 = tf.Variable(tf.random_normal(shape=(nummap1, numfac2)) * 0.01)\n",
    "    W2 = tf.Variable(numpy_rng.uniform(low=-0.01, high=+0.01, size=( numfac2, nummap2)).astype('float32'))\n",
    "    \n",
    "    bias_U2 = tf.Variable(np.zeros(numfac2, dtype='float32'))\n",
    "    bias_V2 = tf.Variable(np.zeros(numfac2, dtype='float32'))\n",
    "    bias_W2 = tf.Variable(np.zeros(nummap2, dtype='float32'))\n",
    "    \n",
    "else :\n",
    "    print (\"Load weights\")\n",
    "    U1 = tf.Variable(np.load(\"URR1.npy\"))\n",
    "    V1 = tf.Variable(np.load(\"VRR1.npy\"))\n",
    "    W1 = tf.Variable(np.load(\"WRR1.npy\"))\n",
    "    bias_U1 = tf.Variable(np.load(\"bias_URR1.npy\"))\n",
    "    bias_V1 = tf.Variable(np.load(\"bias_VRR1.npy\"))\n",
    "    bias_W1 = tf.Variable(np.load(\"bias_WRR1.npy\"))\n",
    "\n",
    "    #weights for second layer \n",
    "    U2 = tf.Variable(np.load(\"URR2.npy\"))\n",
    "    V2 = tf.Variable(np.load(\"VRR2.npy\"))\n",
    "    W2 = tf.Variable(np.load(\"WRR2.npy\"))\n",
    "    bias_U2 = tf.Variable(np.load(\"bias_URR2.npy\"))\n",
    "    bias_V2 = tf.Variable(np.load(\"bias_VRR2.npy\"))\n",
    "    bias_W2 = tf.Variable(np.load(\"bias_WRR2.npy\"))\n",
    "\n",
    "\n",
    "M1_1 =  tf.sigmoid(tf.matmul(tf.multiply(tf.matmul(input_x1,U1) +bias_U1 ,tf.matmul(input_x2,V1)+bias_V1 ), W1)+ bias_W1)\n",
    "M1_2 =  tf.sigmoid(tf.matmul(tf.multiply(tf.matmul(input_x2,U1) +bias_U1 ,tf.matmul(input_x3,V1)+bias_V1 ), W1)+ bias_W1)\n",
    "\n",
    "M2 =  tf.sigmoid(tf.matmul(tf.multiply(tf.matmul(M1_1,U2)+bias_U2 ,tf.matmul(M1_2,V2) +bias_V2 ), W2)+ bias_W2)\n",
    "\n",
    "output_M1_3 = tf.matmul(tf.multiply(tf.matmul(M2,tf.transpose(W2)) ,tf.matmul(M1_2,U2) ),tf.transpose(V2))\n",
    "output_x4 = tf.matmul(tf.multiply(tf.matmul(output_M1_3,tf.transpose(W1)) ,tf.matmul(input_x3,U1) ),tf.transpose(V1))\n",
    "\n",
    "cost_RR = tf.nn.l2_loss(output_x4-input_x4)\n",
    "optimizer_RR = tf.train.AdamOptimizer(learning_rate=0.0001).minimize(cost_RR)\n",
    "\n",
    "\n",
    "# output_x1 = tf.matmul(tf.multiply(tf.matmul(M1_1,tf.transpose(W1)) ,tf.matmul(input_x2,V1) ),tf.transpose(U1))\n",
    "# output_x2 = tf.matmul(tf.multiply(tf.matmul(M1_1,tf.transpose(W1)) ,tf.matmul(input_x1,U1) ),tf.transpose(V1))\n",
    "\n",
    "\n",
    "\n",
    "U1_normalized = tf.nn.l2_normalize(U1, [0,1], epsilon=1e-12, name=None)\n",
    "V1_normalized = tf.nn.l2_normalize(V1, [0,1], epsilon=1e-12, name=None)\n",
    "U2_normalized = tf.nn.l2_normalize(U2, [0,1], epsilon=1e-12, name=None)\n",
    "V2_normalized = tf.nn.l2_normalize(V2, [0,1], epsilon=1e-12, name=None)\n",
    "\n",
    "normalize_U1 = U1.assign(U1_normalized)\n",
    "normalize_V1 = V1.assign(V1_normalized)\n",
    "normalize_U2 = U2.assign(U2_normalized)\n",
    "normalize_V2 = V2.assign(V2_normalized)\n"
   ]
  },
  {
   "cell_type": "code",
   "execution_count": 4,
   "metadata": {},
   "outputs": [
    {
     "name": "stdout",
     "output_type": "stream",
     "text": [
      "data_2  (119000, 4, 4096)\n",
      "data_test_reshaped  (51000, 4, 4096)\n"
     ]
    }
   ],
   "source": [
    "#data for second order relational auto encoder\n",
    "data_2 = my_reshape(data_train, 4) # get 4 frame in each row\n",
    " \n",
    "v,n,h,w = data_2.shape\n",
    "data_2 = data_2.reshape((v,n,h * w))\n",
    "print (\"data_2 \" ,data_2.shape)\n",
    "\n",
    "ntrain = data_2.shape[0]\n",
    "dataset2 = Dataset(data_2)\n",
    "data_2=0\n",
    "\n",
    "#For Test \n",
    "data_test_reshaped = my_reshape(data_test, 4) # get 4 frame in each row\n",
    " \n",
    "v,n,h,w = data_test_reshaped.shape\n",
    "data_test_reshaped = data_test_reshaped.reshape((v,n,h * w))\n",
    "print (\"data_test_reshaped \" ,data_test_reshaped.shape)\n",
    "\n",
    "ntest = data_test_reshaped.shape[0]"
   ]
  },
  {
   "cell_type": "code",
   "execution_count": 5,
   "metadata": {
    "scrolled": true
   },
   "outputs": [
    {
     "name": "stdout",
     "output_type": "stream",
     "text": [
      "Epoch: 000/300 cost: 651.885823841  test_cost: 625.534117647\n",
      "Epoch: 001/300 cost: 616.332395056  test_cost: 621.920980392\n",
      "Epoch: 002/300 cost: 614.026801536  test_cost: 619.475960784\n",
      "Epoch: 003/300 cost: 613.318400030  test_cost: 618.550000000\n"
     ]
    },
    {
     "ename": "KeyboardInterrupt",
     "evalue": "",
     "output_type": "error",
     "traceback": [
      "\u001b[0;31m---------------------------------------------------------------------------\u001b[0m",
      "\u001b[0;31mKeyboardInterrupt\u001b[0m                         Traceback (most recent call last)",
      "\u001b[0;32m<ipython-input-5-0dec75a11966>\u001b[0m in \u001b[0;36m<module>\u001b[0;34m()\u001b[0m\n\u001b[1;32m     23\u001b[0m \u001b[0;31m#             print (batch_x1s.shape)\u001b[0m\u001b[0;34m\u001b[0m\u001b[0;34m\u001b[0m\u001b[0m\n\u001b[1;32m     24\u001b[0m \u001b[0;34m\u001b[0m\u001b[0m\n\u001b[0;32m---> 25\u001b[0;31m             \u001b[0msess\u001b[0m\u001b[0;34m.\u001b[0m\u001b[0mrun\u001b[0m\u001b[0;34m(\u001b[0m\u001b[0moptimizer_RR\u001b[0m\u001b[0;34m,\u001b[0m \u001b[0mfeed_dict\u001b[0m\u001b[0;34m=\u001b[0m\u001b[0;34m{\u001b[0m\u001b[0minput_x1\u001b[0m\u001b[0;34m:\u001b[0m \u001b[0mbatch_x1s\u001b[0m\u001b[0;34m,\u001b[0m \u001b[0minput_x2\u001b[0m\u001b[0;34m:\u001b[0m \u001b[0mbatch_x2s\u001b[0m\u001b[0;34m,\u001b[0m \u001b[0minput_x3\u001b[0m\u001b[0;34m:\u001b[0m \u001b[0mbatch_x3s\u001b[0m\u001b[0;34m,\u001b[0m \u001b[0minput_x4\u001b[0m\u001b[0;34m:\u001b[0m \u001b[0mbatch_x4s\u001b[0m\u001b[0;34m}\u001b[0m\u001b[0;34m)\u001b[0m\u001b[0;34m\u001b[0m\u001b[0m\n\u001b[0m\u001b[1;32m     26\u001b[0m             \u001b[0msess\u001b[0m\u001b[0;34m.\u001b[0m\u001b[0mrun\u001b[0m\u001b[0;34m(\u001b[0m\u001b[0mnormalize_U1\u001b[0m\u001b[0;34m)\u001b[0m\u001b[0;34m\u001b[0m\u001b[0m\n\u001b[1;32m     27\u001b[0m             \u001b[0msess\u001b[0m\u001b[0;34m.\u001b[0m\u001b[0mrun\u001b[0m\u001b[0;34m(\u001b[0m\u001b[0mnormalize_V1\u001b[0m\u001b[0;34m)\u001b[0m\u001b[0;34m\u001b[0m\u001b[0m\n",
      "\u001b[0;32m/Users/basheq/anaconda/lib/python3.6/site-packages/tensorflow/python/client/session.py\u001b[0m in \u001b[0;36mrun\u001b[0;34m(self, fetches, feed_dict, options, run_metadata)\u001b[0m\n\u001b[1;32m    893\u001b[0m     \u001b[0;32mtry\u001b[0m\u001b[0;34m:\u001b[0m\u001b[0;34m\u001b[0m\u001b[0m\n\u001b[1;32m    894\u001b[0m       result = self._run(None, fetches, feed_dict, options_ptr,\n\u001b[0;32m--> 895\u001b[0;31m                          run_metadata_ptr)\n\u001b[0m\u001b[1;32m    896\u001b[0m       \u001b[0;32mif\u001b[0m \u001b[0mrun_metadata\u001b[0m\u001b[0;34m:\u001b[0m\u001b[0;34m\u001b[0m\u001b[0m\n\u001b[1;32m    897\u001b[0m         \u001b[0mproto_data\u001b[0m \u001b[0;34m=\u001b[0m \u001b[0mtf_session\u001b[0m\u001b[0;34m.\u001b[0m\u001b[0mTF_GetBuffer\u001b[0m\u001b[0;34m(\u001b[0m\u001b[0mrun_metadata_ptr\u001b[0m\u001b[0;34m)\u001b[0m\u001b[0;34m\u001b[0m\u001b[0m\n",
      "\u001b[0;32m/Users/basheq/anaconda/lib/python3.6/site-packages/tensorflow/python/client/session.py\u001b[0m in \u001b[0;36m_run\u001b[0;34m(self, handle, fetches, feed_dict, options, run_metadata)\u001b[0m\n\u001b[1;32m   1122\u001b[0m     \u001b[0;32mif\u001b[0m \u001b[0mfinal_fetches\u001b[0m \u001b[0;32mor\u001b[0m \u001b[0mfinal_targets\u001b[0m \u001b[0;32mor\u001b[0m \u001b[0;34m(\u001b[0m\u001b[0mhandle\u001b[0m \u001b[0;32mand\u001b[0m \u001b[0mfeed_dict_tensor\u001b[0m\u001b[0;34m)\u001b[0m\u001b[0;34m:\u001b[0m\u001b[0;34m\u001b[0m\u001b[0m\n\u001b[1;32m   1123\u001b[0m       results = self._do_run(handle, final_targets, final_fetches,\n\u001b[0;32m-> 1124\u001b[0;31m                              feed_dict_tensor, options, run_metadata)\n\u001b[0m\u001b[1;32m   1125\u001b[0m     \u001b[0;32melse\u001b[0m\u001b[0;34m:\u001b[0m\u001b[0;34m\u001b[0m\u001b[0m\n\u001b[1;32m   1126\u001b[0m       \u001b[0mresults\u001b[0m \u001b[0;34m=\u001b[0m \u001b[0;34m[\u001b[0m\u001b[0;34m]\u001b[0m\u001b[0;34m\u001b[0m\u001b[0m\n",
      "\u001b[0;32m/Users/basheq/anaconda/lib/python3.6/site-packages/tensorflow/python/client/session.py\u001b[0m in \u001b[0;36m_do_run\u001b[0;34m(self, handle, target_list, fetch_list, feed_dict, options, run_metadata)\u001b[0m\n\u001b[1;32m   1319\u001b[0m     \u001b[0;32mif\u001b[0m \u001b[0mhandle\u001b[0m \u001b[0;32mis\u001b[0m \u001b[0;32mNone\u001b[0m\u001b[0;34m:\u001b[0m\u001b[0;34m\u001b[0m\u001b[0m\n\u001b[1;32m   1320\u001b[0m       return self._do_call(_run_fn, self._session, feeds, fetches, targets,\n\u001b[0;32m-> 1321\u001b[0;31m                            options, run_metadata)\n\u001b[0m\u001b[1;32m   1322\u001b[0m     \u001b[0;32melse\u001b[0m\u001b[0;34m:\u001b[0m\u001b[0;34m\u001b[0m\u001b[0m\n\u001b[1;32m   1323\u001b[0m       \u001b[0;32mreturn\u001b[0m \u001b[0mself\u001b[0m\u001b[0;34m.\u001b[0m\u001b[0m_do_call\u001b[0m\u001b[0;34m(\u001b[0m\u001b[0m_prun_fn\u001b[0m\u001b[0;34m,\u001b[0m \u001b[0mself\u001b[0m\u001b[0;34m.\u001b[0m\u001b[0m_session\u001b[0m\u001b[0;34m,\u001b[0m \u001b[0mhandle\u001b[0m\u001b[0;34m,\u001b[0m \u001b[0mfeeds\u001b[0m\u001b[0;34m,\u001b[0m \u001b[0mfetches\u001b[0m\u001b[0;34m)\u001b[0m\u001b[0;34m\u001b[0m\u001b[0m\n",
      "\u001b[0;32m/Users/basheq/anaconda/lib/python3.6/site-packages/tensorflow/python/client/session.py\u001b[0m in \u001b[0;36m_do_call\u001b[0;34m(self, fn, *args)\u001b[0m\n\u001b[1;32m   1325\u001b[0m   \u001b[0;32mdef\u001b[0m \u001b[0m_do_call\u001b[0m\u001b[0;34m(\u001b[0m\u001b[0mself\u001b[0m\u001b[0;34m,\u001b[0m \u001b[0mfn\u001b[0m\u001b[0;34m,\u001b[0m \u001b[0;34m*\u001b[0m\u001b[0margs\u001b[0m\u001b[0;34m)\u001b[0m\u001b[0;34m:\u001b[0m\u001b[0;34m\u001b[0m\u001b[0m\n\u001b[1;32m   1326\u001b[0m     \u001b[0;32mtry\u001b[0m\u001b[0;34m:\u001b[0m\u001b[0;34m\u001b[0m\u001b[0m\n\u001b[0;32m-> 1327\u001b[0;31m       \u001b[0;32mreturn\u001b[0m \u001b[0mfn\u001b[0m\u001b[0;34m(\u001b[0m\u001b[0;34m*\u001b[0m\u001b[0margs\u001b[0m\u001b[0;34m)\u001b[0m\u001b[0;34m\u001b[0m\u001b[0m\n\u001b[0m\u001b[1;32m   1328\u001b[0m     \u001b[0;32mexcept\u001b[0m \u001b[0merrors\u001b[0m\u001b[0;34m.\u001b[0m\u001b[0mOpError\u001b[0m \u001b[0;32mas\u001b[0m \u001b[0me\u001b[0m\u001b[0;34m:\u001b[0m\u001b[0;34m\u001b[0m\u001b[0m\n\u001b[1;32m   1329\u001b[0m       \u001b[0mmessage\u001b[0m \u001b[0;34m=\u001b[0m \u001b[0mcompat\u001b[0m\u001b[0;34m.\u001b[0m\u001b[0mas_text\u001b[0m\u001b[0;34m(\u001b[0m\u001b[0me\u001b[0m\u001b[0;34m.\u001b[0m\u001b[0mmessage\u001b[0m\u001b[0;34m)\u001b[0m\u001b[0;34m\u001b[0m\u001b[0m\n",
      "\u001b[0;32m/Users/basheq/anaconda/lib/python3.6/site-packages/tensorflow/python/client/session.py\u001b[0m in \u001b[0;36m_run_fn\u001b[0;34m(session, feed_dict, fetch_list, target_list, options, run_metadata)\u001b[0m\n\u001b[1;32m   1304\u001b[0m           return tf_session.TF_Run(session, options,\n\u001b[1;32m   1305\u001b[0m                                    \u001b[0mfeed_dict\u001b[0m\u001b[0;34m,\u001b[0m \u001b[0mfetch_list\u001b[0m\u001b[0;34m,\u001b[0m \u001b[0mtarget_list\u001b[0m\u001b[0;34m,\u001b[0m\u001b[0;34m\u001b[0m\u001b[0m\n\u001b[0;32m-> 1306\u001b[0;31m                                    status, run_metadata)\n\u001b[0m\u001b[1;32m   1307\u001b[0m \u001b[0;34m\u001b[0m\u001b[0m\n\u001b[1;32m   1308\u001b[0m     \u001b[0;32mdef\u001b[0m \u001b[0m_prun_fn\u001b[0m\u001b[0;34m(\u001b[0m\u001b[0msession\u001b[0m\u001b[0;34m,\u001b[0m \u001b[0mhandle\u001b[0m\u001b[0;34m,\u001b[0m \u001b[0mfeed_dict\u001b[0m\u001b[0;34m,\u001b[0m \u001b[0mfetch_list\u001b[0m\u001b[0;34m)\u001b[0m\u001b[0;34m:\u001b[0m\u001b[0;34m\u001b[0m\u001b[0m\n",
      "\u001b[0;31mKeyboardInterrupt\u001b[0m: "
     ]
    }
   ],
   "source": [
    "#batch_size = 1000\n",
    "num_batches = int(ntrain/batch_size)\n",
    "#training_epochs = 300 \n",
    "\n",
    "with tf.Session() as sess:\n",
    "    import pylab\n",
    "    init = tf.global_variables_initializer()\n",
    "    sess.run(init)\n",
    "    \n",
    "    for epoch in range(training_epochs):\n",
    "        total_cost = 0\n",
    "        for batch_id in range(num_batches):\n",
    "            batch = (dataset2.next_batch(batch_size)).astype('float32')\n",
    "            batch_x1s = batch[:,0,:]\n",
    "            batch_x2s = batch[:,1,:]\n",
    "            batch_x3s = batch[:,2,:]\n",
    "            batch_x4s = batch[:,3,:]\n",
    "            \n",
    "#             plt.imshow(batch_x1s[0,:].reshape((64,64)))\n",
    "#             plt.show()\n",
    "#             plt.imshow(batch_x2s[0,:].reshape((64,64)))\n",
    "#             plt.show()\n",
    "#             print (batch_x1s.shape)\n",
    "             \n",
    "            sess.run(optimizer_RR, feed_dict={input_x1: batch_x1s, input_x2: batch_x2s, input_x3: batch_x3s, input_x4: batch_x4s})\n",
    "            sess.run(normalize_U1)\n",
    "            sess.run(normalize_V1)\n",
    "            sess.run(normalize_U2)\n",
    "            sess.run(normalize_V2)\n",
    "            cost_ = sess.run(cost_RR, feed_dict={input_x1: batch_x1s, input_x2: batch_x2s, input_x3: batch_x3s, input_x4: batch_x4s}) \n",
    "            total_cost += cost_\n",
    "            #print (\"I: %03d/%03d E: %03d i:%03d/%03d cost: %.9f\" % (epoch*num_batches+batch_id,training_epochs*num_batches ,epoch,batch_id,num_batches,cost_/batch_size) ) \n",
    "        \n",
    "        \n",
    "        test_set_cost_= sess.run(cost_RR, feed_dict={input_x1: data_test_reshaped[:,0,:], input_x2: data_test_reshaped[:,1,:], input_x3: data_test_reshaped[:,2,:], input_x4: data_test_reshaped[:,3,:]})\n",
    "        log = np.append(log,test_set_cost_/ntest )\n",
    "        \n",
    "        print (\"Epoch: %03d/%03d cost: %.9f  test_cost: %.9f\" % (epoch,training_epochs ,total_cost / ntrain ,test_set_cost_/ntest ) )\n",
    "        np.save(\"URR1\", np.array(U1.eval(sess)))\n",
    "        np.save(\"VRR1\", np.array(V1.eval(sess)))\n",
    "        np.save(\"WRR1\", np.array(W1.eval(sess)))\n",
    "        np.save(\"bias_VRR1\", np.array(bias_V1.eval(sess)))\n",
    "        np.save(\"bias_URR1\", np.array(bias_U1.eval(sess)))\n",
    "        np.save(\"bias_WRR1\", np.array(bias_W1.eval(sess)))\n",
    "        np.save(\"URR2\", np.array(U2.eval(sess)))\n",
    "        np.save(\"VRR2\", np.array(V2.eval(sess)))\n",
    "        np.save(\"WRR2\", np.array(W2.eval(sess)))\n",
    "        np.save(\"bias_URR2\", np.array(bias_U2.eval(sess)))\n",
    "        np.save(\"bias_VRR2\", np.array(bias_V2.eval(sess)))\n",
    "        np.save(\"bias_WRR2\", np.array(bias_W2.eval(sess)))\n",
    "        np.save(\"log\", log)\n",
    "\n",
    "        \n"
   ]
  },
  {
   "cell_type": "code",
   "execution_count": 20,
   "metadata": {},
   "outputs": [
    {
     "name": "stdout",
     "output_type": "stream",
     "text": [
      "(40, 4096)\n"
     ]
    },
    {
     "data": {
      "image/png": "[encoded data removed]",
      "text/plain": [
       "<matplotlib.figure.Figure at 0x10cae06a0>"
      ]
     },
     "metadata": {},
     "output_type": "display_data"
    },
    {
     "data": {
      "image/png": "[encoded data removed]",
      "text/plain": [
       "<matplotlib.figure.Figure at 0x12297f6d8>"
      ]
     },
     "metadata": {},
     "output_type": "display_data"
    }
   ],
   "source": [
    "result = 0\n",
    "with tf.Session() as sess:\n",
    "    init = tf.global_variables_initializer()\n",
    "    sess.run(init)\n",
    "    result = sess.run(output_x4, feed_dict={input_x1: data_test_reshaped[0:40,0,:], input_x2: data_test_reshaped[0:40,1,:], input_x3: data_test_reshaped[0:40,2,:], input_x4: data_test_reshaped[0:40,3,:]})   \n",
    "print (result.shape)    \n",
    "n=1\n",
    "result_n =result[n,:] \n",
    "result_n =(result_n * var_a[0,0,:,:].reshape(4096)) +mean_a[0,0,:,:].reshape(4096)\n",
    "result_n =result_n.reshape(64,64)\n",
    "\n",
    " \n",
    "plt.imshow(result_n)\n",
    "plt.show()\n",
    "\n",
    "plt.imshow(data_test_reshaped[n,3,:].reshape(64,64))\n",
    "plt.show()    \n",
    "    \n",
    "    "
   ]
  },
  {
   "cell_type": "code",
   "execution_count": null,
   "metadata": {
    "collapsed": true
   },
   "outputs": [],
   "source": []
  }
 ],
 "metadata": {
  "kernelspec": {
   "display_name": "Python 3",
   "language": "python",
   "name": "python3"
  },
  "language_info": {
   "codemirror_mode": {
    "name": "ipython",
    "version": 3
   },
   "file_extension": ".py",
   "mimetype": "text/x-python",
   "name": "python",
   "nbconvert_exporter": "python",
   "pygments_lexer": "ipython3",
   "version": "3.6.1"
  }
 },
 "nbformat": 4,
 "nbformat_minor": 2
}
